{
 "cells": [
  {
   "cell_type": "code",
   "execution_count": 5,
   "metadata": {},
   "outputs": [
    {
     "name": "stderr",
     "output_type": "stream",
     "text": [
      "/Users/cmohan/Library/Caches/pypoetry/virtualenvs/customer-segmentation-ippy__lx-py3.12/lib/python3.12/site-packages/pyclustering/utils/__init__.py:264: SyntaxWarning: invalid escape sequence '\\s'\n",
      "  \"\"\"!\n",
      "/Users/cmohan/Library/Caches/pypoetry/virtualenvs/customer-segmentation-ippy__lx-py3.12/lib/python3.12/site-packages/pyclustering/utils/metric.py:299: SyntaxWarning: invalid escape sequence '\\s'\n",
      "  \"\"\"!\n",
      "/Users/cmohan/Library/Caches/pypoetry/virtualenvs/customer-segmentation-ippy__lx-py3.12/lib/python3.12/site-packages/pyclustering/utils/metric.py:338: SyntaxWarning: invalid escape sequence '\\s'\n",
      "  \"\"\"!\n",
      "/Users/cmohan/Library/Caches/pypoetry/virtualenvs/customer-segmentation-ippy__lx-py3.12/lib/python3.12/site-packages/pyclustering/utils/metric.py:377: SyntaxWarning: invalid escape sequence '\\s'\n",
      "  \"\"\"!\n",
      "/Users/cmohan/Library/Caches/pypoetry/virtualenvs/customer-segmentation-ippy__lx-py3.12/lib/python3.12/site-packages/pyclustering/utils/metric.py:418: SyntaxWarning: invalid escape sequence '\\m'\n",
      "  \"\"\"!\n",
      "/Users/cmohan/Library/Caches/pypoetry/virtualenvs/customer-segmentation-ippy__lx-py3.12/lib/python3.12/site-packages/pyclustering/utils/metric.py:461: SyntaxWarning: invalid escape sequence '\\s'\n",
      "  \"\"\"!\n",
      "/Users/cmohan/Library/Caches/pypoetry/virtualenvs/customer-segmentation-ippy__lx-py3.12/lib/python3.12/site-packages/pyclustering/utils/metric.py:502: SyntaxWarning: invalid escape sequence '\\s'\n",
      "  \"\"\"!\n",
      "/Users/cmohan/Library/Caches/pypoetry/virtualenvs/customer-segmentation-ippy__lx-py3.12/lib/python3.12/site-packages/pyclustering/utils/metric.py:546: SyntaxWarning: invalid escape sequence '\\s'\n",
      "  \"\"\"!\n",
      "/Users/cmohan/Library/Caches/pypoetry/virtualenvs/customer-segmentation-ippy__lx-py3.12/lib/python3.12/site-packages/pyclustering/utils/metric.py:588: SyntaxWarning: invalid escape sequence '\\l'\n",
      "  \"\"\"!\n",
      "/Users/cmohan/Library/Caches/pypoetry/virtualenvs/customer-segmentation-ippy__lx-py3.12/lib/python3.12/site-packages/pyclustering/cluster/kmedoids.py:27: SyntaxWarning: invalid escape sequence '\\l'\n",
      "  \"\"\"!\n"
     ]
    }
   ],
   "source": [
    "import pandas as pd\n",
    "from sklearn.decomposition import PCA\n",
    "from sklearn.manifold import TSNE\n",
    "from sklearn.cluster import KMeans, AgglomerativeClustering\n",
    "from pyclustering.cluster.kmedoids import kmedoids\n",
    "from sklearn.metrics import silhouette_score, davies_bouldin_score\n",
    "import numpy as np"
   ]
  },
  {
   "cell_type": "code",
   "execution_count": 6,
   "metadata": {},
   "outputs": [],
   "source": [
    "# Load the dataset\n",
    "df = pd.read_csv('main_df.csv')"
   ]
  },
  {
   "cell_type": "code",
   "execution_count": 7,
   "metadata": {},
   "outputs": [],
   "source": [
    "# Convert `order_purchase_timestamp` to datetime\n",
    "df['order_purchase_timestamp'] = pd.to_datetime(df['order_purchase_timestamp'])"
   ]
  },
  {
   "cell_type": "code",
   "execution_count": 8,
   "metadata": {},
   "outputs": [],
   "source": [
    "# Create a DataFrame with unique customers and their total order value, payment value, and freight value\n",
    "customer_df = df.groupby('customer_unique_id').agg({\n",
    "    'order_value': 'sum',\n",
    "    'payment_value': 'sum',\n",
    "    'freight_value': 'sum'\n",
    "}).reset_index()"
   ]
  },
  {
   "cell_type": "code",
   "execution_count": 9,
   "metadata": {},
   "outputs": [],
   "source": [
    "# Merge to get `product_category` and `payment_type`\n",
    "customer_df = customer_df.merge(df[['customer_unique_id', 'product_category', 'payment_type']], on='customer_unique_id', how='left')\n",
    "\n",
    "# Drop unnecessary columns\n",
    "customer_df = customer_df.drop(columns=['customer_unique_id'])\n",
    "\n",
    "# Fill missing values with 'unknown'\n",
    "customer_df['product_category'] = customer_df['product_category'].fillna('unknown')\n",
    "customer_df['payment_type'] = customer_df['payment_type'].fillna('unknown')"
   ]
  },
  {
   "cell_type": "code",
   "execution_count": 10,
   "metadata": {},
   "outputs": [],
   "source": [
    "# Convert categorical features to numerical representations\n",
    "features = pd.get_dummies(customer_df[['product_category', 'payment_type']])\n",
    "features_names = features.columns"
   ]
  },
  {
   "cell_type": "code",
   "execution_count": 11,
   "metadata": {},
   "outputs": [],
   "source": [
    "# Dimensionality Reduction: PCA\n",
    "pca = PCA(n_components=2)\n",
    "pca_data = pca.fit_transform(features)"
   ]
  },
  {
   "cell_type": "code",
   "execution_count": 12,
   "metadata": {},
   "outputs": [],
   "source": [
    "# Dimensionality Reduction: t-SNE\n",
    "tsne = TSNE(n_components=2, random_state=42)\n",
    "tsne_data = tsne.fit_transform(features)"
   ]
  },
  {
   "cell_type": "markdown",
   "metadata": {},
   "source": [
    "Dimensionalty Reduction done"
   ]
  },
  {
   "cell_type": "code",
   "execution_count": 13,
   "metadata": {},
   "outputs": [],
   "source": [
    "# Clustering with PCA-reduced data\n",
    "## K-Means\n",
    "kmeans_pca = KMeans(n_clusters=4, random_state=42)\n",
    "labels_kmeans_pca = kmeans_pca.fit_predict(pca_data)\n",
    "silhouette_kmeans_pca = silhouette_score(pca_data, labels_kmeans_pca)\n",
    "db_index_kmeans_pca = davies_bouldin_score(pca_data, labels_kmeans_pca)"
   ]
  },
  {
   "cell_type": "code",
   "execution_count": 2,
   "metadata": {},
   "outputs": [
    {
     "ename": "NameError",
     "evalue": "name 'kmedoids' is not defined",
     "output_type": "error",
     "traceback": [
      "\u001b[0;31m---------------------------------------------------------------------------\u001b[0m",
      "\u001b[0;31mNameError\u001b[0m                                 Traceback (most recent call last)",
      "Cell \u001b[0;32mIn[2], line 4\u001b[0m\n\u001b[1;32m      1\u001b[0m \u001b[38;5;66;03m## K-Medoids using pyclustering\u001b[39;00m\n\u001b[1;32m      2\u001b[0m \u001b[38;5;66;03m# Initial medoids (indices of data points)\u001b[39;00m\n\u001b[1;32m      3\u001b[0m initial_medoids_pca \u001b[38;5;241m=\u001b[39m [\u001b[38;5;241m0\u001b[39m, \u001b[38;5;241m1\u001b[39m, \u001b[38;5;241m2\u001b[39m, \u001b[38;5;241m3\u001b[39m]  \u001b[38;5;66;03m# Example: use first 4 points as initial medoids\u001b[39;00m\n\u001b[0;32m----> 4\u001b[0m kmedoids_instance_pca \u001b[38;5;241m=\u001b[39m \u001b[43mkmedoids\u001b[49m(pca_data\u001b[38;5;241m.\u001b[39mtolist(), initial_medoids_pca)\n\u001b[1;32m      5\u001b[0m kmedoids_instance_pca\u001b[38;5;241m.\u001b[39mprocess()\n\u001b[1;32m      6\u001b[0m labels_kmedoids_pca \u001b[38;5;241m=\u001b[39m kmedoids_instance_pca\u001b[38;5;241m.\u001b[39mpredict(pca_data\u001b[38;5;241m.\u001b[39mtolist())\n",
      "\u001b[0;31mNameError\u001b[0m: name 'kmedoids' is not defined"
     ]
    }
   ],
   "source": [
    "## K-Medoids using pyclustering\n",
    "# Initial medoids (indices of data points)\n",
    "initial_medoids_pca = [0, 1, 2, 3]  # Example: use first 4 points as initial medoids\n",
    "kmedoids_instance_pca = kmedoids(pca_data.tolist(), initial_medoids_pca)\n",
    "kmedoids_instance_pca.process()\n",
    "labels_kmedoids_pca = kmedoids_instance_pca.predict(pca_data.tolist())\n",
    "silhouette_kmedoids_pca = silhouette_score(pca_data, labels_kmedoids_pca)\n",
    "db_index_kmedoids_pca = davies_bouldin_score(pca_data, labels_kmedoids_pca)\n"
   ]
  }
 ],
 "metadata": {
  "kernelspec": {
   "display_name": "customer-segmentation-ippy__lx-py3.12",
   "language": "python",
   "name": "python3"
  },
  "language_info": {
   "codemirror_mode": {
    "name": "ipython",
    "version": 3
   },
   "file_extension": ".py",
   "mimetype": "text/x-python",
   "name": "python",
   "nbconvert_exporter": "python",
   "pygments_lexer": "ipython3",
   "version": "3.12.4"
  }
 },
 "nbformat": 4,
 "nbformat_minor": 2
}
