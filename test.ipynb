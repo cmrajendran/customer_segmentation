{
 "cells": [
  {
   "cell_type": "code",
   "execution_count": 2,
   "metadata": {},
   "outputs": [],
   "source": [
    "import pandas as pd\n",
    "from sklearn.preprocessing import StandardScaler\n",
    "from sklearn.decomposition import PCA\n",
    "from sklearn.cluster import KMeans"
   ]
  },
  {
   "cell_type": "code",
   "execution_count": 3,
   "metadata": {},
   "outputs": [],
   "source": [
    "# Load the dataset\n",
    "df = pd.read_csv('main_df.csv')\n"
   ]
  },
  {
   "cell_type": "code",
   "execution_count": 4,
   "metadata": {},
   "outputs": [],
   "source": [
    "# Convert `order_purchase_timestamp` to datetime\n",
    "df['order_purchase_timestamp'] = pd.to_datetime(df['order_purchase_timestamp'])"
   ]
  },
  {
   "cell_type": "code",
   "execution_count": 5,
   "metadata": {},
   "outputs": [],
   "source": [
    "# Create a DataFrame with unique customers and their total order value, payment value, and freight value\n",
    "customer_df = df.groupby('customer_unique_id').agg({\n",
    "    'order_value': 'sum',\n",
    "    'payment_value': 'sum',\n",
    "    'freight_value': 'sum'\n",
    "}).reset_index()"
   ]
  },
  {
   "cell_type": "code",
   "execution_count": 6,
   "metadata": {},
   "outputs": [],
   "source": [
    "# Merge to get `product_category` and `payment_type`\n",
    "customer_df = customer_df.merge(df[['customer_unique_id', 'product_category', 'payment_type']], on='customer_unique_id', how='left')\n",
    "\n",
    "# Drop unnecessary columns\n",
    "customer_df = customer_df.drop(columns=['customer_unique_id'])\n",
    "\n",
    "# Fill missing values with 'unknown'\n",
    "customer_df['product_category'] = customer_df['product_category'].fillna('unknown')\n",
    "customer_df['payment_type'] = customer_df['payment_type'].fillna('unknown')"
   ]
  },
  {
   "cell_type": "code",
   "execution_count": 7,
   "metadata": {},
   "outputs": [],
   "source": [
    "# Convert categorical features to numerical representations\n",
    "features = pd.get_dummies(customer_df[['product_category', 'payment_type']])\n",
    "features_names = features.columns"
   ]
  },
  {
   "cell_type": "code",
   "execution_count": 8,
   "metadata": {},
   "outputs": [],
   "source": [
    "# Standardize the features\n",
    "scaler = StandardScaler()\n",
    "features = scaler.fit_transform(features)\n"
   ]
  },
  {
   "cell_type": "code",
   "execution_count": 9,
   "metadata": {},
   "outputs": [],
   "source": [
    "# Apply dimensionality reduction\n",
    "pca = PCA(n_components=2)\n",
    "pca_features = pca.fit_transform(features)"
   ]
  },
  {
   "cell_type": "code",
   "execution_count": 10,
   "metadata": {},
   "outputs": [],
   "source": [
    "# Apply clustering model\n",
    "kmeans = KMeans(n_clusters=3, random_state=42)\n",
    "kmeans = kmeans.fit(pca_features)"
   ]
  },
  {
   "cell_type": "code",
   "execution_count": 11,
   "metadata": {},
   "outputs": [],
   "source": [
    "# Add the cluster column to `df_pca_kmeans`\n",
    "df_pca_kmeans = pd.concat([customer_df, pd.DataFrame(pca_features)], axis=1)\n",
    "df_pca_kmeans['cluster'] = kmeans.labels_"
   ]
  },
  {
   "cell_type": "code",
   "execution_count": 13,
   "metadata": {},
   "outputs": [
    {
     "name": "stdout",
     "output_type": "stream",
     "text": [
      "Cluster Means:\n",
      "| cluster   | order_value   | payment_value   | freight_value   |\n",
      "|:----------|:--------------|:----------------|:----------------|\n",
      "| 0         | 704.187       | 269.001         | 118.115         |\n",
      "| 1         | 207.139       | 361.806         | 30.538          |\n",
      "| 2         | 187.494       | 455.738         | 31.2517         |\n"
     ]
    }
   ],
   "source": [
    "# Analyze the clusters\n",
    "cluster_means = df_pca_kmeans.groupby('cluster').agg({\n",
    "    'order_value': 'mean',\n",
    "    'payment_value': 'mean',\n",
    "    'freight_value': 'mean'\n",
    "})\n",
    "print('Cluster Means:')\n",
    "print(cluster_means.to_markdown(numalign=\"left\", stralign=\"left\"))"
   ]
  },
  {
   "cell_type": "code",
   "execution_count": 14,
   "metadata": {},
   "outputs": [
    {
     "name": "stdout",
     "output_type": "stream",
     "text": [
      "Cluster Sizes:\n",
      "| cluster   | 0     |\n",
      "|:----------|:------|\n",
      "| 0         | 6509  |\n",
      "| 1         | 86769 |\n",
      "| 2         | 24323 |\n"
     ]
    }
   ],
   "source": [
    "# Get the size of each cluster\n",
    "cluster_sizes = df_pca_kmeans.groupby('cluster').size()\n",
    "print('Cluster Sizes:')\n",
    "print(cluster_sizes.to_markdown(numalign=\"left\", stralign=\"left\"))"
   ]
  },
  {
   "cell_type": "code",
   "execution_count": 16,
   "metadata": {},
   "outputs": [
    {
     "name": "stdout",
     "output_type": "stream",
     "text": [
      "\n",
      "Cluster 0:\n",
      "  Top 5 most frequent product_categorys:\n",
      "| product_category   | count   |\n",
      "|:-------------------|:--------|\n",
      "| bed_bath_table     | 989     |\n",
      "| furniture_decor    | 530     |\n",
      "| housewares         | 505     |\n",
      "| sports_leisure     | 411     |\n",
      "| health_beauty      | 389     |\n",
      "  Top 5 most frequent payment_types:\n",
      "| payment_type   | count   |\n",
      "|:---------------|:--------|\n",
      "| voucher        | 6274    |\n",
      "| debit_card     | 175     |\n",
      "| boleto         | 60      |\n",
      "\n",
      "Cluster 1:\n",
      "  Top 5 most frequent product_categorys:\n",
      "| product_category      | count   |\n",
      "|:----------------------|:--------|\n",
      "| bed_bath_table        | 8959    |\n",
      "| health_beauty         | 7566    |\n",
      "| sports_leisure        | 6635    |\n",
      "| furniture_decor       | 6379    |\n",
      "| computers_accessories | 5436    |\n",
      "  Top 5 most frequent payment_types:\n",
      "| payment_type   | count   |\n",
      "|:---------------|:--------|\n",
      "| credit_card    | 86769   |\n",
      "\n",
      "Cluster 2:\n",
      "  Top 5 most frequent product_categorys:\n",
      "| product_category      | count   |\n",
      "|:----------------------|:--------|\n",
      "| computers_accessories | 2306    |\n",
      "| health_beauty         | 2017    |\n",
      "| sports_leisure        | 1899    |\n",
      "| bed_bath_table        | 1875    |\n",
      "| furniture_decor       | 1835    |\n",
      "  Top 5 most frequent payment_types:\n",
      "| payment_type   | count   |\n",
      "|:---------------|:--------|\n",
      "| boleto         | 22807   |\n",
      "| debit_card     | 1516    |\n"
     ]
    }
   ],
   "source": [
    "# Get the most frequent product categories and payment types for each cluster\n",
    "for cluster in range(3):\n",
    "    print(f'\\nCluster {cluster}:')\n",
    "    for col in ['product_category', 'payment_type']:\n",
    "        print(f'  Top 5 most frequent {col}s:')\n",
    "        print(df_pca_kmeans[df_pca_kmeans['cluster'] == cluster][col].value_counts().head(5).to_markdown(numalign=\"left\", stralign=\"left\"))"
   ]
  }
 ],
 "metadata": {
  "kernelspec": {
   "display_name": "customer-segmentation-ippy__lx-py3.12",
   "language": "python",
   "name": "python3"
  },
  "language_info": {
   "codemirror_mode": {
    "name": "ipython",
    "version": 3
   },
   "file_extension": ".py",
   "mimetype": "text/x-python",
   "name": "python",
   "nbconvert_exporter": "python",
   "pygments_lexer": "ipython3",
   "version": "3.12.4"
  }
 },
 "nbformat": 4,
 "nbformat_minor": 2
}
